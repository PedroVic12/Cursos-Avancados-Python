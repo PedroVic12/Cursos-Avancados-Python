{
 "cells": [
  {
   "cell_type": "markdown",
   "metadata": {},
   "source": [
    "# Curso Logica de programação:\n",
    "\n",
    "## Timer:\n",
    "# 00:00 - 0:38 Apresentação\n",
    "# Aula 1\n",
    "# 0:38 -4:23  Pre-requisitos para o curso\n",
    "# 4:23 - 8:43  Por que um um software é criado?\n",
    "# Aula 2\n",
    "# 8:43 - Como um software é criado do zero e onde a logica encaixa nisso?"
   ]
  },
  {
   "cell_type": "markdown",
   "metadata": {},
   "source": []
  }
 ],
 "metadata": {
  "language_info": {
   "name": "python"
  },
  "orig_nbformat": 4
 },
 "nbformat": 4,
 "nbformat_minor": 2
}
