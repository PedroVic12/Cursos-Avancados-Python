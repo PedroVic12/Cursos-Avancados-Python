{
 "cells": [
  {
   "cell_type": "markdown",
   "metadata": {},
   "source": [
    "# 1) Ligar para alguem"
   ]
  },
  {
   "cell_type": "code",
   "execution_count": null,
   "metadata": {},
   "outputs": [],
   "source": [
    "#1) Quais são os dados de entrada necessarios? Monte um algoritimo necessario para ligar para um amigo\n",
    "\n",
    "#Um telefone\n",
    "\n",
    "#Um numero de celular\n",
    "\n",
    "#2) o que devo fazer com estes dados?\n",
    "\n",
    "# Devo usar o celular para discar o numero do meu amigo\n",
    "\n",
    "#3) Quais sao as restriçeos deste problema?\n",
    "\n",
    "# Caso meu amigo nao atenda, devo deixar uma mensagem dizendo:\"me liga de volta\"\n",
    "\n",
    "#4) Qual é o resultado esperado?\n",
    "\n",
    "# Consegui falar com meu amigo?\n",
    "\n",
    "#5) Qual é a sequencia de passos a serem feitas para chegar ao resultado esperado?\n",
    "\n",
    "#1) Pegar o telefone\n",
    "#2) Se estiver travado por senha, destrave o celular\n",
    "#3) Verifico se ha sinal da operadora\n",
    "#4) Navego ate o discador do celular\n",
    "# 5) Digita o numero do meu amigo\n",
    "#¨) Aperto o botao de ligar\n",
    "#7) Agurado a ligação completar\n",
    "#8) Se a ligação completar, conversar com ele\n",
    "#9) Se a ligação nao completar, deixar uma mensagem dizendo \"Me ligue de volta\"\n",
    "\n"
   ]
  },
  {
   "cell_type": "markdown",
   "metadata": {},
   "source": [
    "# 2)Escreva um programa que retorne o valor hora de um funcionario com base no seu salario mensal e horas trabalhadas por mes"
   ]
  },
  {
   "cell_type": "code",
   "execution_count": 4,
   "metadata": {},
   "outputs": [
    {
     "name": "stdout",
     "output_type": "stream",
     "text": [
      "O seu salario hora é: 14.204545454545455\n"
     ]
    }
   ],
   "source": [
    "#1) Quais sao os dados de entrada necessarios?\n",
    "\n",
    "#Salario e valor hora\n",
    "\n",
    "# Qual o salario mensal da pessoa?\n",
    "salario_mensal = int(input(\"Digite o seu salario mensal:\"))\n",
    "\n",
    "# Qual a Horas trabalhadas por mes?\n",
    "Total_de_horas_trabalhadas = int(input((\"Digite o seu total de horas trabalhadas?\")))\n",
    "\n",
    "\n",
    "\n",
    "\n",
    "#2) O que devo fazer com esses dados?\n",
    "\n",
    "# devo usar eles para calulcar o valor hora que um funcionario recebe usando o calulco salario mensal / horas trabalhadas\n",
    "\n",
    "salario_hora = salario_mensal/Total_de_horas_trabalhadas\n",
    "\n",
    "#3) Quais sao as restriçoes deste problema?\n",
    "\n",
    "# Os valores devem ser entregues somente em formato de salario/hora\n",
    "\n",
    "# 4) Qual é o resultado esperado?\n",
    "\n",
    "#O valor hora que um funcionario recebe\n",
    "# salario_hora = salario_mensal/Total de horas trabalhadas\n",
    "\n",
    "# 5) Qual é a sequencia de passos a ser feitas para chegar ao resultado esperado?\n",
    "print(f\"O seu salario hora é: {salario_hora}\")\n",
    "\n"
   ]
  }
 ],
 "metadata": {
  "interpreter": {
   "hash": "74ab7c6ffe6706754a8af46cc4d18eebe476c74ce21a19282f620e1b1e9919fe"
  },
  "kernelspec": {
   "display_name": "Python 3.8.8 64-bit ('base': conda)",
   "language": "python",
   "name": "python3"
  },
  "language_info": {
   "codemirror_mode": {
    "name": "ipython",
    "version": 3
   },
   "file_extension": ".py",
   "mimetype": "text/x-python",
   "name": "python",
   "nbconvert_exporter": "python",
   "pygments_lexer": "ipython3",
   "version": "3.8.8"
  },
  "orig_nbformat": 4
 },
 "nbformat": 4,
 "nbformat_minor": 2
}
