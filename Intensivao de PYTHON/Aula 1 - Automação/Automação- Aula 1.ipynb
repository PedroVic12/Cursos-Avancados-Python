{
 "cells": [
  {
   "cell_type": "markdown",
   "metadata": {},
   "source": [
    "# <font color=\"red\"> Automação de Sistemas e Processos com Python </font>\n",
    "\n",
    "### Desafio:\n",
    "\n",
    "Todos os dias, o nosso sistema atualiza as vendas do dia anterior.\n",
    "O seu trabalho diário, como analista, é enviar um e-mail para a diretoria, assim que começar a trabalhar, com o faturamento e a quantidade de produtos vendidos no dia anterior\n",
    "\n",
    "E-mail da diretoria: pedrovictor.rveras12@gmail.com<br>\n",
    "Local onde o sistema disponibiliza as vendas do dia anterior: https://drive.google.com/drive/folders/149xknr9JvrlEnhNWO49zPcw0PW5icxga?usp=sharing\n",
    "\n",
    "Para resolver isso, vamos usar o pyautogui, uma biblioteca de automação de comandos do mouse e do teclado\n",
    "\n",
    "Comandos pyautogui: https://pyautogui.readthedocs.io/en/latest/quickstart.html\n"
   ]
  },
  {
   "cell_type": "markdown",
   "metadata": {},
   "source": [
    "## <font color=red>*Algoritmo:* </font>\n",
    "\n",
    "<font color=green>\n",
    "\n",
    "1) Entrar no sistema\n",
    "\n",
    "2) Navegar no sistema ate a pasta exportar e Fazer o download da base de vendas\n",
    "\n",
    "4) Importar a base de vendas paro o Python\n",
    "\n",
    "5) Calcular o faturamento e quantidade de produtos vendidos\n",
    "\n",
    "6) Enviar email para voce mesmo."
   ]
  },
  {
   "cell_type": "code",
   "execution_count": 56,
   "metadata": {},
   "outputs": [],
   "source": [
    "import pandas as pd\n",
    "import pyautogui\n",
    "import pyperclip\n",
    "import time"
   ]
  },
  {
   "cell_type": "markdown",
   "metadata": {},
   "source": [
    "### Passo 1) Entrar no sistema "
   ]
  },
  {
   "cell_type": "code",
   "execution_count": 57,
   "metadata": {},
   "outputs": [],
   "source": [
    "pyautogui.moveTo(x=683, y=938)\n",
    "pyautogui.click()\n",
    "pyautogui.hotkey(\"ctrl\",\"t\")\n",
    "\n",
    "#Pyper Clip pode usar os caracters especiais:\n",
    "pyperclip.copy(\"https://drive.google.com/drive/folders/149xknr9JvrlEnhNWO49zPcw0PW5icxga\")\n",
    "\n",
    "pyautogui.hotkey(\"ctrl\",\"v\")\n",
    "pyautogui.press('enter')\n",
    "time.sleep(3)"
   ]
  },
  {
   "cell_type": "markdown",
   "metadata": {},
   "source": [
    "### Passo 2) Navegar no sistema ate a pasta exportar \n",
    "\n",
    "    Fazer o download da base de vendas"
   ]
  },
  {
   "cell_type": "code",
   "execution_count": 58,
   "metadata": {},
   "outputs": [],
   "source": [
    "pyautogui.click(x=451, y=331, clicks = 2)\n",
    "pyautogui.click()\n",
    "pyautogui.click()\n",
    "pyautogui.rightClick()\n",
    "pyautogui.click(x=561, y=875)\n",
    "time.sleep(5)"
   ]
  },
  {
   "cell_type": "markdown",
   "metadata": {},
   "source": [
    "### Passo 3) Importar a base de vendas paro o Python\n"
   ]
  },
  {
   "cell_type": "code",
   "execution_count": 59,
   "metadata": {},
   "outputs": [
    {
     "data": {
      "text/html": [
       "<div>\n",
       "<style scoped>\n",
       "    .dataframe tbody tr th:only-of-type {\n",
       "        vertical-align: middle;\n",
       "    }\n",
       "\n",
       "    .dataframe tbody tr th {\n",
       "        vertical-align: top;\n",
       "    }\n",
       "\n",
       "    .dataframe thead th {\n",
       "        text-align: right;\n",
       "    }\n",
       "</style>\n",
       "<table border=\"1\" class=\"dataframe\">\n",
       "  <thead>\n",
       "    <tr style=\"text-align: right;\">\n",
       "      <th></th>\n",
       "      <th>Código Venda</th>\n",
       "      <th>Data</th>\n",
       "      <th>ID Loja</th>\n",
       "      <th>Produto</th>\n",
       "      <th>Quantidade</th>\n",
       "      <th>Valor Unitário</th>\n",
       "      <th>Valor Final</th>\n",
       "    </tr>\n",
       "  </thead>\n",
       "  <tbody>\n",
       "    <tr>\n",
       "      <th>0</th>\n",
       "      <td>65014</td>\n",
       "      <td>2019-12-01</td>\n",
       "      <td>Shopping Morumbi</td>\n",
       "      <td>Sunga Listrado</td>\n",
       "      <td>5</td>\n",
       "      <td>114</td>\n",
       "      <td>570</td>\n",
       "    </tr>\n",
       "    <tr>\n",
       "      <th>1</th>\n",
       "      <td>65014</td>\n",
       "      <td>2019-12-01</td>\n",
       "      <td>Shopping Morumbi</td>\n",
       "      <td>Casaco Listrado</td>\n",
       "      <td>1</td>\n",
       "      <td>269</td>\n",
       "      <td>269</td>\n",
       "    </tr>\n",
       "    <tr>\n",
       "      <th>2</th>\n",
       "      <td>65016</td>\n",
       "      <td>2019-12-01</td>\n",
       "      <td>Iguatemi Campinas</td>\n",
       "      <td>Sapato Listrado</td>\n",
       "      <td>2</td>\n",
       "      <td>363</td>\n",
       "      <td>726</td>\n",
       "    </tr>\n",
       "    <tr>\n",
       "      <th>3</th>\n",
       "      <td>65016</td>\n",
       "      <td>2019-12-01</td>\n",
       "      <td>Iguatemi Campinas</td>\n",
       "      <td>Casaco</td>\n",
       "      <td>1</td>\n",
       "      <td>250</td>\n",
       "      <td>250</td>\n",
       "    </tr>\n",
       "    <tr>\n",
       "      <th>4</th>\n",
       "      <td>65017</td>\n",
       "      <td>2019-12-01</td>\n",
       "      <td>Shopping SP Market</td>\n",
       "      <td>Gorro Liso</td>\n",
       "      <td>3</td>\n",
       "      <td>92</td>\n",
       "      <td>276</td>\n",
       "    </tr>\n",
       "    <tr>\n",
       "      <th>5</th>\n",
       "      <td>65018</td>\n",
       "      <td>2019-12-01</td>\n",
       "      <td>Rio Mar Shopping Fortaleza</td>\n",
       "      <td>Cueca Estampa</td>\n",
       "      <td>1</td>\n",
       "      <td>66</td>\n",
       "      <td>66</td>\n",
       "    </tr>\n",
       "    <tr>\n",
       "      <th>6</th>\n",
       "      <td>65018</td>\n",
       "      <td>2019-12-01</td>\n",
       "      <td>Rio Mar Shopping Fortaleza</td>\n",
       "      <td>Sunga Xadrez</td>\n",
       "      <td>1</td>\n",
       "      <td>116</td>\n",
       "      <td>116</td>\n",
       "    </tr>\n",
       "    <tr>\n",
       "      <th>7</th>\n",
       "      <td>65018</td>\n",
       "      <td>2019-12-01</td>\n",
       "      <td>Rio Mar Shopping Fortaleza</td>\n",
       "      <td>Casaco Listrado</td>\n",
       "      <td>1</td>\n",
       "      <td>269</td>\n",
       "      <td>269</td>\n",
       "    </tr>\n",
       "    <tr>\n",
       "      <th>8</th>\n",
       "      <td>65019</td>\n",
       "      <td>2019-12-01</td>\n",
       "      <td>Shopping União de Osasco</td>\n",
       "      <td>Polo Xadrez</td>\n",
       "      <td>2</td>\n",
       "      <td>142</td>\n",
       "      <td>284</td>\n",
       "    </tr>\n",
       "    <tr>\n",
       "      <th>9</th>\n",
       "      <td>65019</td>\n",
       "      <td>2019-12-01</td>\n",
       "      <td>Shopping União de Osasco</td>\n",
       "      <td>Tênis Linho</td>\n",
       "      <td>1</td>\n",
       "      <td>294</td>\n",
       "      <td>294</td>\n",
       "    </tr>\n",
       "  </tbody>\n",
       "</table>\n",
       "</div>"
      ],
      "text/plain": [
       "   Código Venda       Data                     ID Loja          Produto  \\\n",
       "0         65014 2019-12-01            Shopping Morumbi   Sunga Listrado   \n",
       "1         65014 2019-12-01            Shopping Morumbi  Casaco Listrado   \n",
       "2         65016 2019-12-01           Iguatemi Campinas  Sapato Listrado   \n",
       "3         65016 2019-12-01           Iguatemi Campinas           Casaco   \n",
       "4         65017 2019-12-01          Shopping SP Market       Gorro Liso   \n",
       "5         65018 2019-12-01  Rio Mar Shopping Fortaleza    Cueca Estampa   \n",
       "6         65018 2019-12-01  Rio Mar Shopping Fortaleza     Sunga Xadrez   \n",
       "7         65018 2019-12-01  Rio Mar Shopping Fortaleza  Casaco Listrado   \n",
       "8         65019 2019-12-01    Shopping União de Osasco      Polo Xadrez   \n",
       "9         65019 2019-12-01    Shopping União de Osasco      Tênis Linho   \n",
       "\n",
       "   Quantidade  Valor Unitário  Valor Final  \n",
       "0           5             114          570  \n",
       "1           1             269          269  \n",
       "2           2             363          726  \n",
       "3           1             250          250  \n",
       "4           3              92          276  \n",
       "5           1              66           66  \n",
       "6           1             116          116  \n",
       "7           1             269          269  \n",
       "8           2             142          284  \n",
       "9           1             294          294  "
      ]
     },
     "metadata": {},
     "output_type": "display_data"
    }
   ],
   "source": [
    "vendas_df = pd.read_excel(r\"C:\\Users\\pedro\\Downloads\\Vendas - Dez.xlsx\")\n",
    "display(vendas_df.head(10))"
   ]
  },
  {
   "cell_type": "markdown",
   "metadata": {},
   "source": [
    "### Passo 4) Vamos agora ler o arquivo baixado para pegar os indicadores\n",
    "\n",
    "- Faturamento\n",
    "- Quantidade de Produtos"
   ]
  },
  {
   "cell_type": "code",
   "execution_count": 60,
   "metadata": {},
   "outputs": [
    {
     "name": "stdout",
     "output_type": "stream",
     "text": [
      "Faturamento = 2917311 reais\n",
      "Quantidade = 15227 produtos\n"
     ]
    }
   ],
   "source": [
    "faturamento = vendas_df[\"Valor Final\"].sum()\n",
    "quantidade = vendas_df[\"Quantidade\"].sum()\n",
    "print(f\"Faturamento = {faturamento} reais\")\n",
    "print(f\"Quantidade = {quantidade} produtos\")"
   ]
  },
  {
   "cell_type": "markdown",
   "metadata": {},
   "source": [
    "### Passo 5) Vamos agora enviar um e-mail pelo gmail"
   ]
  },
  {
   "cell_type": "markdown",
   "metadata": {},
   "source": [
    "> Abrindo e email"
   ]
  },
  {
   "cell_type": "code",
   "execution_count": 61,
   "metadata": {},
   "outputs": [],
   "source": [
    "pyautogui.moveTo(x=683, y=938)\n",
    "pyautogui.click()\n",
    "pyautogui.hotkey(\"ctrl\", \"t\")\n",
    "pyperclip.copy(\"https://mail.google.com/mail/u/0/#inbox\")\n",
    "pyautogui.hotkey(\"ctrl\",\"v\")\n",
    "pyautogui.press('enter')\n",
    "time.sleep(2)"
   ]
  },
  {
   "cell_type": "markdown",
   "metadata": {},
   "source": [
    "> Enviando o email"
   ]
  },
  {
   "cell_type": "code",
   "execution_count": 62,
   "metadata": {},
   "outputs": [],
   "source": [
    "pyautogui.PAUSE = 1\n",
    "pyautogui.moveTo(x=104, y=236)\n",
    "pyautogui.click()\n",
    "pyautogui.write(\"pedrovictor.rveras12@gmail.com\")\n",
    "pyautogui.press('tab')\n",
    "pyautogui.press('tab')\n",
    "pyperclip.copy(\"Quantidade e Faturamento do MÊs\")\n",
    "pyautogui.hotkey(\"ctrl\",\"v\")\n",
    "pyautogui.press('tab')\n",
    "texto = f\"\"\" Prezados, bom dia\n",
    "\n",
    "O faturamento de ontem foi de: R$ {faturamento:,.2f}\n",
    "A quantidade de produtos foi de: {quantidade:,}\n",
    "\n",
    "Abs\n",
    "Pedro Victor Usando Python \"\"\"\n",
    "\n",
    "pyperclip.copy(texto)\n",
    "pyautogui.hotkey(\"ctrl\", \"v\")\n",
    "pyautogui.hotkey(\"ctrl\", \"enter\")"
   ]
  },
  {
   "cell_type": "markdown",
   "metadata": {},
   "source": [
    "## Use esse código para descobrir qual a posição de um item que queira clicar\n",
    "\n",
    "- Lembre-se: a posição na sua tela é diferente da posição na minha tela"
   ]
  },
  {
   "cell_type": "code",
   "execution_count": 63,
   "metadata": {},
   "outputs": [
    {
     "data": {
      "text/plain": [
       "Point(x=1589, y=13)"
      ]
     },
     "execution_count": 63,
     "metadata": {},
     "output_type": "execute_result"
    }
   ],
   "source": [
    "time.sleep(3)\n",
    "pyautogui.position()"
   ]
  }
 ],
 "metadata": {
  "kernelspec": {
   "display_name": "Python 3",
   "language": "python",
   "name": "python3"
  },
  "language_info": {
   "codemirror_mode": {
    "name": "ipython",
    "version": 3
   },
   "file_extension": ".py",
   "mimetype": "text/x-python",
   "name": "python",
   "nbconvert_exporter": "python",
   "pygments_lexer": "ipython3",
   "version": "3.9.7"
  }
 },
 "nbformat": 4,
 "nbformat_minor": 4
}
